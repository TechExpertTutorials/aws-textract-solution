{
 "cells": [
  {
   "cell_type": "markdown",
   "metadata": {},
   "source": [
    "\"\"\"\n",
    "need to install boto3 package (AWS SDK) from conda -c conda-forge  \n",
    "pip install boto3  \n",
    "  \n",
    "conda create -n aws-cloud  \n",
    "conda install -c conda-forge boto3 ipykernel jupyterlab notebook python=3.12.0  \n",
    "** to set up env as new kernel in jupyterlabs:  \n",
    "python -m ipykernel install --user --name=gcp-cloud  \n",
    "  \n",
    "repo: https://github.com/TechExpertTutorials/aws-textract-solution  \n",
    "  \n",
    "setup credentials:  \n",
    "  \n",
    "~/.aws/credentials  \n",
    "  \n",
    "[default]  \n",
    "aws_access_key_id = YOUR_ACCESS_KEY_ID  \n",
    "aws_secret_access_key = YOUR_SECRET_ACCESS_KEY  \n",
    "\n",
    "\"\"\"\n"
   ]
  },
  {
   "cell_type": "code",
   "execution_count": null,
   "metadata": {},
   "outputs": [],
   "source": [
    "import boto3\n",
    "from textract_functions import get_lines, get_kv_map"
   ]
  },
  {
   "cell_type": "code",
   "execution_count": null,
   "metadata": {},
   "outputs": [],
   "source": [
    "# if ~/.aws/credentials not configured\n",
    "# client = boto3.client('textract', \n",
    "#                       region_name='<aws-region>', \n",
    "#                       aws_access_key_id='<Your access key here>',\n",
    "#                       aws_secret_access_key='<Your secret access key here>')\n",
    "# else\n",
    "client = boto3.client('textract')"
   ]
  },
  {
   "cell_type": "code",
   "execution_count": null,
   "metadata": {},
   "outputs": [],
   "source": [
    "# image to read text from\n",
    "with open('dl1.png', 'rb') as file:\n",
    "    img_test = file.read()\n",
    "    bytes_test = bytearray(img_test)"
   ]
  },
  {
   "cell_type": "markdown",
   "metadata": {},
   "source": [
    "AWS Text Extraction Hierarchy:  \n",
    "Page -> Line -> Word"
   ]
  },
  {
   "cell_type": "code",
   "execution_count": null,
   "metadata": {},
   "outputs": [],
   "source": [
    "response = client.analyze_document(Document={'Bytes': bytes_test}, FeatureTypes = ['TABLES'])\n",
    "print(response)"
   ]
  },
  {
   "cell_type": "code",
   "execution_count": null,
   "metadata": {},
   "outputs": [],
   "source": [
    "blocks = response['Blocks']\n",
    "text = \"\"\n",
    "for block in blocks:\n",
    "    if block['BlockType'] == 'WORD':\n",
    "        text += block['Text'] + \"\\n\"\n",
    "print(text)"
   ]
  },
  {
   "cell_type": "code",
   "execution_count": null,
   "metadata": {},
   "outputs": [],
   "source": [
    "# print(get_kv_map(blocks))"
   ]
  },
  {
   "cell_type": "code",
   "execution_count": null,
   "metadata": {},
   "outputs": [],
   "source": [
    "lines, blocks, confidences = get_lines(blocks)"
   ]
  },
  {
   "cell_type": "code",
   "execution_count": null,
   "metadata": {},
   "outputs": [],
   "source": [
    "for line in lines:\n",
    "    print(f\"Text: {lines[line]}  --  Confidence: {round(confidences[line])} pct\")"
   ]
  }
 ],
 "metadata": {
  "kernelspec": {
   "display_name": "aws-cloud",
   "language": "python",
   "name": "python3"
  },
  "language_info": {
   "codemirror_mode": {
    "name": "ipython",
    "version": 3
   },
   "file_extension": ".py",
   "mimetype": "text/x-python",
   "name": "python",
   "nbconvert_exporter": "python",
   "pygments_lexer": "ipython3",
   "version": "3.10.13"
  }
 },
 "nbformat": 4,
 "nbformat_minor": 2
}
